{
 "cells": [
  {
   "cell_type": "code",
   "execution_count": 3,
   "metadata": {},
   "outputs": [
    {
     "data": {
      "text/plain": [
       "<matplotlib.figure.Figure at 0x7f28141f36a0>"
      ]
     },
     "metadata": {},
     "output_type": "display_data"
    }
   ],
   "source": [
    "fig = plt.figure(frameon=False)\n",
    "fig.set_size_inches(4.79, 4.79)\n",
    "ax = plt.Axes(fig, [0., 0., 1., 1.])\n",
    "ax.set_axis_off()"
   ]
  },
  {
   "cell_type": "code",
   "execution_count": 4,
   "metadata": {},
   "outputs": [
    {
     "data": {
      "text/plain": [
       "<matplotlib.axes._axes.Axes at 0x7f27f6641080>"
      ]
     },
     "execution_count": 4,
     "metadata": {},
     "output_type": "execute_result"
    }
   ],
   "source": [
    "import matplotlib.font_manager as mfm\n",
    "zenhei_path = \"/usr/share/fonts/wenquanyi/wqy-zenhei/wqy-zenhei.ttc\"\n",
    "zenhei_prop = mfm.FontProperties(fname=zenhei_path)\n",
    "ax.text(randint(70, 274), randint(70, 274), '韩', fontproperties=zenhei_prop, color=(0.3, 0, 1), fontsize=randint(35, 50), rotation=randint(0, 359))\n",
    "\n",
    "simkai_path = \"./simkai.ttf\"\n",
    "simkai_prop = mfm.FontProperties(fname=simkai_path)\n",
    "ax.text(randint(70, 274), randint(70, 274), '韩', fontproperties=simkai_prop, color=(1, 0.3, 0), fontsize=randint(35, 50), rotation=randint(0, 359))\n",
    "fig.add_axes(ax)"
   ]
  },
  {
   "cell_type": "code",
   "execution_count": 5,
   "metadata": {},
   "outputs": [
    {
     "data": {
      "text/plain": [
       "<matplotlib.figure.Figure at 0x7f2814269908>"
      ]
     },
     "metadata": {},
     "output_type": "display_data"
    }
   ],
   "source": [
    "ax.imshow(img)\n",
    "fig.savefig('plot.jpg')\n",
    "plt.cla()\n",
    "plt.clf()"
   ]
  },
  {
   "cell_type": "code",
   "execution_count": 1,
   "metadata": {},
   "outputs": [],
   "source": [
    "from scipy.spatial.distance import euclidean\n",
    "from random import randint\n",
    "from random import choice\n",
    "from tqdm import tqdm\n",
    "import pickle  "
   ]
  },
  {
   "cell_type": "code",
   "execution_count": 2,
   "metadata": {},
   "outputs": [],
   "source": [
    "import utils"
   ]
  },
  {
   "cell_type": "code",
   "execution_count": 3,
   "metadata": {},
   "outputs": [],
   "source": [
    "from random import choices\n",
    "import common_hanzi"
   ]
  },
  {
   "cell_type": "code",
   "execution_count": 4,
   "metadata": {},
   "outputs": [],
   "source": [
    "l1 = list(common_hanzi.level1_chars())"
   ]
  },
  {
   "cell_type": "code",
   "execution_count": 5,
   "metadata": {},
   "outputs": [],
   "source": [
    "sample_char = choices(l1, k=200)"
   ]
  },
  {
   "cell_type": "code",
   "execution_count": 6,
   "metadata": {},
   "outputs": [
    {
     "data": {
      "text/plain": [
       "['茎', '壁', '湿', '北']"
      ]
     },
     "execution_count": 6,
     "metadata": {},
     "output_type": "execute_result"
    }
   ],
   "source": [
    "sample_char[:4]"
   ]
  },
  {
   "cell_type": "code",
   "execution_count": 7,
   "metadata": {},
   "outputs": [],
   "source": [
    "int2char = {k: v for k, v in enumerate(sample_char)}"
   ]
  },
  {
   "cell_type": "code",
   "execution_count": 8,
   "metadata": {},
   "outputs": [],
   "source": [
    "char2int = {v: k for k, v in int2char.items()}"
   ]
  },
  {
   "cell_type": "code",
   "execution_count": 11,
   "metadata": {},
   "outputs": [],
   "source": [
    "with open('int2char.pkl', 'wb') as output_file:\n",
    "    pickle.dump(int2char, output_file)"
   ]
  },
  {
   "cell_type": "code",
   "execution_count": 9,
   "metadata": {},
   "outputs": [],
   "source": [
    "import matplotlib.pyplot as plt\n",
    "from random import randint\n",
    "from random import choice"
   ]
  },
  {
   "cell_type": "code",
   "execution_count": null,
   "metadata": {
    "scrolled": true
   },
   "outputs": [
    {
     "name": "stderr",
     "output_type": "stream",
     "text": [
      " 20%|██        | 2042/10000 [06:29<25:16,  5.25it/s]"
     ]
    }
   ],
   "source": [
    "for i in tqdm(range(1, 10001)):\n",
    "    index = i + 100000\n",
    "    num_char = randint(2, 5)\n",
    "    center_loc_list = utils.ran_locations(num_char)\n",
    "    char_list = list(choices(sample_char, k=num_char))\n",
    "    \n",
    "    \n",
    "    img = plt.imread('../raw_img/' + str(index) + '.png')\n",
    "    fig, ax = plt.subplots()\n",
    "    ax.imshow(img)\n",
    "    fig = plt.figure(frameon=False)\n",
    "    fig.set_size_inches(4.79, 4.79)\n",
    "    ax = plt.Axes(fig, [0., 0., 1., 1.])\n",
    "    ax.set_axis_off()\n",
    "    fig.add_axes(ax)\n",
    "    for j in range(num_char):\n",
    "        ran_angle = utils.is_colsed2boundry(center_loc_list[j])\n",
    "        \n",
    "        ax.text(center_loc_list[j][0], \n",
    "                center_loc_list[j][1], \n",
    "                char_list[j], \n",
    "                {'ha': 'left', 'va': 'top'},\n",
    "                fontproperties=utils.ran_font('../fonts/'), \n",
    "                color=utils.ran_color(), \n",
    "                fontsize=randint(40, 50), \n",
    "                rotation=ran_angle)\n",
    "    ax.imshow(img)\n",
    "    fig.savefig('../char_added/' + str(index) + '_' + ''.join(char_list) + '.jpg')\n",
    "    plt.cla()\n",
    "    plt.clf()\n",
    "    plt.close('all')"
   ]
  },
  {
   "cell_type": "code",
   "execution_count": null,
   "metadata": {},
   "outputs": [],
   "source": []
  }
 ],
 "metadata": {
  "kernelspec": {
   "display_name": "Python 3",
   "language": "python",
   "name": "python3"
  },
  "language_info": {
   "codemirror_mode": {
    "name": "ipython",
    "version": 3
   },
   "file_extension": ".py",
   "mimetype": "text/x-python",
   "name": "python",
   "nbconvert_exporter": "python",
   "pygments_lexer": "ipython3",
   "version": "3.6.4"
  }
 },
 "nbformat": 4,
 "nbformat_minor": 2
}
